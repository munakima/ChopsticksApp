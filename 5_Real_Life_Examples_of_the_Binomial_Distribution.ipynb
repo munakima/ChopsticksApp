{
  "nbformat": 4,
  "nbformat_minor": 0,
  "metadata": {
    "colab": {
      "name": "5 Real-Life Examples of the Binomial Distribution.ipynb",
      "provenance": [],
      "toc_visible": true,
      "authorship_tag": "ABX9TyNZ5Em8dKYC1mBX4P+vLtly",
      "include_colab_link": true
    },
    "kernelspec": {
      "name": "python3",
      "display_name": "Python 3"
    },
    "language_info": {
      "name": "python"
    }
  },
  "cells": [
    {
      "cell_type": "markdown",
      "metadata": {
        "id": "view-in-github",
        "colab_type": "text"
      },
      "source": [
        "<a href=\"https://colab.research.google.com/github/munakima/ChopsticksApp/blob/master/5_Real_Life_Examples_of_the_Binomial_Distribution.ipynb\" target=\"_parent\"><img src=\"https://colab.research.google.com/assets/colab-badge.svg\" alt=\"Open In Colab\"/></a>"
      ]
    },
    {
      "cell_type": "markdown",
      "source": [
        "# 5 Real-Life Examples of the Binomial Distribution"
      ],
      "metadata": {
        "id": "-N2isrSbpEre"
      }
    },
    {
      "cell_type": "markdown",
      "source": [
        "Using scipy.stats package from python to implement example https://www.statology.org/binomial-distribution-real-life-examples/"
      ],
      "metadata": {
        "id": "SxkwsdIkoBEI"
      }
    },
    {
      "cell_type": "code",
      "source": [
        "import numpy as np\n",
        "import matplotlib.pyplot as plt\n",
        "from scipy.stats import binom"
      ],
      "metadata": {
        "id": "FivgSdFuoqg0"
      },
      "execution_count": null,
      "outputs": []
    },
    {
      "cell_type": "markdown",
      "source": [
        "The binomial distribution formula is:    \n",
        "$P(x) = {n \\choose k}p^kq^{n-k} = \\frac{n!}{(n-k)!k!}p^kq^{n-k}$.\n",
        "\n",
        "Words to math formula:\n",
        "\n",
        "exactly k                 --> P(x=k)  \n",
        "binom.pmf(k, n, p)   \n",
        "\n",
        "at least k, or more than k      --> P(x>=k),sum(P(k)+P(k+1)+..P(n))   \n",
        "1 - binom.cdf(10, n, p)   \n",
        "\n",
        "at most k, exactly k or fewer    --> P(x<=k),sum(P(0)+P(1)+..P(k))  \n",
        "binom.cdf(k, n, p) \n",
        "\n",
        "range, between c and d         --> P(x>=c and x<=d),sum(P(0)+P(1)+..P(d))- sum(P(0)+P(1)+..P(c))  \n",
        "binom.cdf(d, n, p) - binom.cdf(c-1, n, p)\n"
      ],
      "metadata": {
        "id": "H3KM4NU_pjGX"
      }
    },
    {
      "cell_type": "markdown",
      "source": [
        "## 1.Number of Side Effects from Medications\n",
        "  Suppose it is known that 5% of adults who take a certain medication experience negative side effects. To find the probability that more than a certain number of patients in a random sample of 100 will experience negative side effects.   \n",
        "To find P(X > 5 patients experience side effects)   \n"
      ],
      "metadata": {
        "id": "984o9AhnoFlX"
      }
    },
    {
      "cell_type": "markdown",
      "source": [
        "$P(x=5) = {100 \\choose 5}0.05^50.95^{100-5} = \\frac{100!}{(100-5)!5!}0.05^50.95^{100-5}$."
      ],
      "metadata": {
        "id": "6QPneUKNokjV"
      }
    },
    {
      "cell_type": "code",
      "execution_count": null,
      "metadata": {
        "colab": {
          "base_uri": "https://localhost:8080/"
        },
        "id": "3eW_9DoPnp7J",
        "outputId": "7f675183-afc8-436a-93cd-1bf7b36d7f02"
      },
      "outputs": [
        {
          "output_type": "stream",
          "name": "stdout",
          "text": [
            "0.384\n"
          ]
        }
      ],
      "source": [
        "n=100\n",
        "k=5\n",
        "p=0.05\n",
        "prob = 1 - binom.cdf(k, n, p)\n",
        "print(round(prob,5))"
      ]
    },
    {
      "cell_type": "markdown",
      "source": [
        "## 2.Number of Fraudulent Transactions  \n",
        "Suppose it is known that 2% of all credit card transactions in a certain region are fraudulent. If there are 50 transactions per day in a certain region, to find the probability that more than a certain number of fraudulent transactions occur in a given day:  \n",
        "P(X > 1 fraudulent transaction)"
      ],
      "metadata": {
        "id": "rjQJtY1Yrjgt"
      }
    },
    {
      "cell_type": "code",
      "source": [
        "n=50\n",
        "k=1\n",
        "p=0.02\n",
        "prob = 1 - binom.cdf(k, n, p)\n",
        "print(round(prob,5))"
      ],
      "metadata": {
        "colab": {
          "base_uri": "https://localhost:8080/"
        },
        "id": "BuVFPlFKuyzZ",
        "outputId": "8cca30d0-9c70-4521-9761-887f220718f1"
      },
      "execution_count": null,
      "outputs": [
        {
          "output_type": "stream",
          "name": "stdout",
          "text": [
            "0.26423\n"
          ]
        }
      ]
    },
    {
      "cell_type": "markdown",
      "source": [
        "## 3.Number of Spam Emails per Day\n",
        "Suppose it is known that 4% of all emails are spam. If an account receives 20 emails in a given day, to find the probability that a certain number of those emails are spam:\n",
        "P(X = 0 spam emails)"
      ],
      "metadata": {
        "id": "EFRsnRk5vJ76"
      }
    },
    {
      "cell_type": "code",
      "source": [
        "n=20\n",
        "k=0\n",
        "p=0.04\n",
        "prob = binom.pmf(k, n, p)\n",
        "print(round(prob,5))"
      ],
      "metadata": {
        "colab": {
          "base_uri": "https://localhost:8080/"
        },
        "id": "m4tbfDLxvTD2",
        "outputId": "8267abf4-7bbf-44bb-9f63-704603bf6f43"
      },
      "execution_count": null,
      "outputs": [
        {
          "output_type": "stream",
          "name": "stdout",
          "text": [
            "0.442\n"
          ]
        }
      ]
    },
    {
      "cell_type": "markdown",
      "source": [
        "## 4.Number of River Overflows\n",
        "Suppose it is known that a given river overflows during 5% of all storms. If there are 20 storms in a given year, to find the probability that the river overflows a certain number of times:  \n",
        "P(X = 0 overflows)"
      ],
      "metadata": {
        "id": "k025Kyv9xm8U"
      }
    },
    {
      "cell_type": "code",
      "source": [
        "n=20\n",
        "k=0\n",
        "p=0.05\n",
        "prob = binom.pmf(k, n, p)\n",
        "print(round(prob,5))"
      ],
      "metadata": {
        "colab": {
          "base_uri": "https://localhost:8080/"
        },
        "id": "gAciZkGYxyMO",
        "outputId": "10c02c72-143c-4ab3-efbb-813960a42e23"
      },
      "execution_count": null,
      "outputs": [
        {
          "output_type": "stream",
          "name": "stdout",
          "text": [
            "0.35849\n"
          ]
        }
      ]
    },
    {
      "cell_type": "markdown",
      "source": [
        "## 5.Shopping Returns per Week\n",
        "Suppose it is known that 10% of all orders get returned at a certain store each week. If there are 50 orders that week, to find the probability that the store receives more than a certain number of returns that week:  \n",
        "P(X > 10 returns)"
      ],
      "metadata": {
        "id": "-SVnBRPyx4NP"
      }
    },
    {
      "cell_type": "code",
      "source": [
        "n=50\n",
        "k=10\n",
        "p=0.1\n",
        "prob = 1-binom.cdf(k, n, p)\n",
        "print(round(prob,5))"
      ],
      "metadata": {
        "colab": {
          "base_uri": "https://localhost:8080/"
        },
        "id": "exLNpQdax_fS",
        "outputId": "919cd976-d7d4-4e58-cd5c-6ee445b8d70f"
      },
      "execution_count": null,
      "outputs": [
        {
          "output_type": "stream",
          "name": "stdout",
          "text": [
            "0.00935\n"
          ]
        }
      ]
    },
    {
      "cell_type": "markdown",
      "source": [
        "## 6.Supporting the law\n",
        "It is known that 70% of individuals support a certain law. If 10 individuals are randomly selected, what is the probability that between 4 and 6 of them support the law?"
      ],
      "metadata": {
        "id": "pKKuo9A2y9bd"
      }
    },
    {
      "cell_type": "code",
      "source": [
        "n=10\n",
        "c=4\n",
        "d=6\n",
        "p=0.7\n",
        "prob = binom.cdf(d, n, p) - binom.cdf(c-1, n, p) \n",
        "print(round(prob,5))"
      ],
      "metadata": {
        "colab": {
          "base_uri": "https://localhost:8080/"
        },
        "id": "DmFnaTKS0cuP",
        "outputId": "3975e6ed-67b9-4c28-c445-a6607c536b3f"
      },
      "execution_count": null,
      "outputs": [
        {
          "output_type": "stream",
          "name": "stdout",
          "text": [
            "0.3398\n"
          ]
        }
      ]
    }
  ]
}